{
 "cells": [
  {
   "attachments": {},
   "cell_type": "markdown",
   "metadata": {},
   "source": [
    "# Machine Learning in Business + Economics\n",
    "\n",
    "In this project we try to get a grasp of how many research papers in the field of Business and Economics are using machine learning."
   ]
  },
  {
   "cell_type": "code",
   "execution_count": 3,
   "metadata": {},
   "outputs": [],
   "source": [
    "import os\n",
    "import time\n",
    "import re\n",
    "import json\n",
    "import requests\n",
    "from tqdm import tqdm\n",
    "from bs4 import BeautifulSoup\n",
    "import pandas as pd"
   ]
  },
  {
   "attachments": {},
   "cell_type": "markdown",
   "metadata": {},
   "source": [
    "## Step 1: Listing NBER WPs"
   ]
  },
  {
   "cell_type": "code",
   "execution_count": 2,
   "metadata": {},
   "outputs": [],
   "source": [
    "from selenium import webdriver\n",
    "from selenium.webdriver.common.by import By\n",
    "from selenium.webdriver.support.ui import WebDriverWait\n",
    "from selenium.webdriver.support import expected_conditions as EC\n",
    "from selenium.common.exceptions import TimeoutException\n",
    "\n",
    "# start the webdriver\n",
    "driver = webdriver.Chrome()\n",
    "\n",
    "# define XPATH queries for data cards\n",
    "data_card_xpath = (By.XPATH, \"//div[@class='digest-card' or @class='digest-card is-new']\")"
   ]
  },
  {
   "cell_type": "code",
   "execution_count": 3,
   "metadata": {},
   "outputs": [],
   "source": [
    "def retrieve_macro_info(element):\n",
    "    \n",
    "    # turn into parsable soup\n",
    "    soup = BeautifulSoup(element.get_attribute('innerHTML'), 'html.parser')\n",
    "    \n",
    "    # initialize output dictionary\n",
    "    out = {}\n",
    "    \n",
    "    # retrieve title and link\n",
    "    tmp = soup.find_all(\"a\", {\"href\": re.compile(\"/papers/\")})\n",
    "    out[\"title\"] = tmp[0].text\n",
    "    out[\"link\"] = tmp[0][\"href\"]\n",
    "    out[\"NBER_ID\"] = tmp[1].text\n",
    "    \n",
    "    # retrieve authors\n",
    "    tmp = soup.find_all('a', {\"href\": re.compile(\"/people/\")})\n",
    "    out[\"authors\"] = [x.text for x in tmp]\n",
    "    out[\"authors_links\"] = [x[\"href\"] for x in tmp]\n",
    "    \n",
    "    # retrieve date\n",
    "    out[\"date\"] = soup.find(\"span\").get_text()\n",
    "\n",
    "    return out"
   ]
  },
  {
   "cell_type": "code",
   "execution_count": 4,
   "metadata": {},
   "outputs": [
    {
     "name": "stderr",
     "output_type": "stream",
     "text": [
      "100%|██████████| 199/199 [12:41<00:00,  3.82s/it]\n"
     ]
    }
   ],
   "source": [
    "# an element to store the data\n",
    "data_paged = {}\n",
    "\n",
    "# loop through the pages\n",
    "for page in tqdm(range(1, 200)):\n",
    "    # wait for decency\n",
    "    time.sleep(1)\n",
    "    # navigate to the page\n",
    "    driver.get(f\"https://www.nber.org/papers?page={page}&perPage=100&sortBy=public_date\")\n",
    "    # wait for dynamic content to be loaded\n",
    "    try:\n",
    "        myElem = WebDriverWait(driver, timeout = 5).until(EC.presence_of_element_located(data_card_xpath))\n",
    "    except TimeoutException:\n",
    "        print(\"Timeout!\")\n",
    "        continue\n",
    "    # get all data cards\n",
    "    data_cards = driver.find_elements(*data_card_xpath)\n",
    "    # loop through the data cards\n",
    "    data_paged[page] = [retrieve_macro_info(x) for x in data_cards]\n",
    "    \n",
    "    # save checkpoint\n",
    "    if page % 10 == 0:\n",
    "        with open(\"nber_data_meta.json\", \"w\") as f:\n",
    "            json.dump(data_paged, f)"
   ]
  },
  {
   "cell_type": "code",
   "execution_count": 17,
   "metadata": {},
   "outputs": [],
   "source": [
    "# load the json\n",
    "with open(\"data_paged.json\", \"r\") as f:\n",
    "    data_paged = json.loads(f.read())\n",
    "# convert keys to integers\n",
    "data_paged = {int(k): v for k, v in data_paged.items()}\n",
    "# flatten the dictionary in a dataframe\n",
    "pd.concat([pd.DataFrame.from_dict(data_paged[i]) for i in range(1, 200)]).to_csv(\"nber_papers.csv\")"
   ]
  },
  {
   "attachments": {},
   "cell_type": "markdown",
   "metadata": {},
   "source": [
    "## Step 2: Getting abstracts"
   ]
  },
  {
   "cell_type": "code",
   "execution_count": 49,
   "metadata": {},
   "outputs": [],
   "source": [
    "# get the links\n",
    "links = pd.read_csv(\"outstanding_links.csv\").link"
   ]
  },
  {
   "cell_type": "code",
   "execution_count": 52,
   "metadata": {},
   "outputs": [
    {
     "name": "stderr",
     "output_type": "stream",
     "text": [
      "  4%|▍         | 426/10243 [10:18<3:57:24,  1.45s/it]\n"
     ]
    },
    {
     "ename": "KeyboardInterrupt",
     "evalue": "",
     "output_type": "error",
     "traceback": [
      "\u001b[0;31m---------------------------------------------------------------------------\u001b[0m",
      "\u001b[0;31mKeyboardInterrupt\u001b[0m                         Traceback (most recent call last)",
      "Cell \u001b[0;32mIn[52], line 8\u001b[0m\n\u001b[1;32m      4\u001b[0m \u001b[39m# iterate over the links\u001b[39;00m\n\u001b[1;32m      5\u001b[0m \u001b[39mfor\u001b[39;00m index, link \u001b[39min\u001b[39;00m \u001b[39menumerate\u001b[39m(tqdm(links)):\n\u001b[1;32m      6\u001b[0m     \n\u001b[1;32m      7\u001b[0m     \u001b[39m# wait for decency\u001b[39;00m\n\u001b[0;32m----> 8\u001b[0m     time\u001b[39m.\u001b[39msleep(\u001b[39m.5\u001b[39m)\n\u001b[1;32m     10\u001b[0m     \u001b[39m# get the page and turn into parsable soup\u001b[39;00m\n\u001b[1;32m     11\u001b[0m     \u001b[39mtry\u001b[39;00m:\n",
      "\u001b[0;31mKeyboardInterrupt\u001b[0m: "
     ]
    }
   ],
   "source": [
    "# an element to store the data\n",
    "data = {}\n",
    "\n",
    "# iterate over the links\n",
    "for index, link in enumerate(tqdm(links)):\n",
    "    \n",
    "    # wait for decency\n",
    "    time.sleep(.5)\n",
    "    \n",
    "    # get the page and turn into parsable soup\n",
    "    try:\n",
    "        soup = BeautifulSoup(requests.get(\"https://www.nber.org/\" + link).content, 'html.parser')\n",
    "    except:\n",
    "        continue\n",
    "    \n",
    "    # initialize output dictionary\n",
    "    out = {}\n",
    "    \n",
    "    try:\n",
    "    \n",
    "        # retrieve abstract\n",
    "        out[\"abstract\"] = soup.find(\"div\", {\"class\": \"page-header__intro-inner\"}).get_text()\n",
    "        \n",
    "        # retrieve acknowledgements and disclosures\n",
    "        out[\"a_d\"] = soup.find(\"div\", {\"id\": \"accordion-body-guid1\"}).p.get_text()\n",
    "        \n",
    "        # retrieve auxiliary links\n",
    "        out[\"links\"] = [x[\"href\"] for x in soup.find_all(\"a\", {\"class\": \"link link--arrow\"})]\n",
    "        \n",
    "        # retrieve DOI\n",
    "        out[\"doi\"] = re.sub(\"\\nDOI |\\n  \", \"\", soup.find_all(\"div\", {\"class\": \"page-header__citation-item\"})[1].get_text())\n",
    "        \n",
    "        # retrieve associated topics and programs\n",
    "        tmp = soup.find_all(\"div\", {\"class\": \"info-grid__item-body\"})\n",
    "        out[\"topics\"] = tmp[0].find_all(text = True)\n",
    "        out[\"programs\"] = tmp[1].find_all(text = True)\n",
    "        \n",
    "    except:\n",
    "        pass\n",
    "    \n",
    "    # write to list\n",
    "    data[index] = out\n",
    "    \n",
    "    # save checkpoint\n",
    "    if index % 10 == 0:\n",
    "        with open(\"/home/ubuntu/ext_drive/HiWi/mlecon_scraping/ML-in-Business-Economics/nber_data_detailed.json\", \"w\") as f:\n",
    "            json.dump(data, f)"
   ]
  },
  {
   "attachments": {},
   "cell_type": "markdown",
   "metadata": {},
   "source": [
    "---"
   ]
  },
  {
   "cell_type": "code",
   "execution_count": 1,
   "metadata": {},
   "outputs": [],
   "source": [
    "def get_data(path):\n",
    "    # load the json\n",
    "    with open(path, \"r\") as f:\n",
    "        data_paged = json.loads(f.read())\n",
    "\n",
    "    detailed = pd.DataFrame.from_dict(data_paged, orient = \"index\").dropna(subset = \"doi\")\n",
    "    detailed[\"id\"] = detailed.doi.str.extract(r\"((?<=\\/\\w).*$)\")\n",
    "    detailed[\"id\"] = detailed[\"id\"].apply(int)\n",
    "    \n",
    "    return detailed"
   ]
  },
  {
   "cell_type": "code",
   "execution_count": 7,
   "metadata": {},
   "outputs": [],
   "source": [
    "detailed = pd.concat([get_data(\"nber_data_detailed.json\"), pd.read_csv(\"nber_detailed.csv\")], ignore_index = True)"
   ]
  },
  {
   "attachments": {},
   "cell_type": "markdown",
   "metadata": {},
   "source": [
    "---"
   ]
  },
  {
   "cell_type": "code",
   "execution_count": 12,
   "metadata": {},
   "outputs": [],
   "source": [
    "detailed = pd.read_csv(\"nber_detailed.csv\")"
   ]
  },
  {
   "cell_type": "code",
   "execution_count": 13,
   "metadata": {},
   "outputs": [],
   "source": [
    "meta = pd.read_csv(\"nber_papers.csv\")"
   ]
  },
  {
   "cell_type": "code",
   "execution_count": 14,
   "metadata": {},
   "outputs": [],
   "source": [
    "merged = pd.merge(meta, detailed, right_on = \"id\", left_on = \"NBER_ID\", how = \"outer\")"
   ]
  },
  {
   "cell_type": "code",
   "execution_count": 16,
   "metadata": {},
   "outputs": [],
   "source": [
    "merged.to_csv(\"nber_merged.csv\")"
   ]
  },
  {
   "attachments": {},
   "cell_type": "markdown",
   "metadata": {},
   "source": [
    "---"
   ]
  },
  {
   "cell_type": "code",
   "execution_count": 35,
   "metadata": {},
   "outputs": [],
   "source": [
    "merged = pd.read_csv(\"nber_merged.csv\")"
   ]
  },
  {
   "cell_type": "code",
   "execution_count": 36,
   "metadata": {},
   "outputs": [],
   "source": [
    "merged[\"abstract\"] = merged.abstract.str.replace(\"\\n\", \" \")"
   ]
  },
  {
   "cell_type": "code",
   "execution_count": 37,
   "metadata": {},
   "outputs": [],
   "source": [
    "merged[\"year\"] = merged.date.str.extract(r\"(\\d{4})\")"
   ]
  },
  {
   "cell_type": "code",
   "execution_count": 38,
   "metadata": {},
   "outputs": [],
   "source": [
    "search_terms = [\"machine.learning\",\n",
    "                \"deep.learning\",\n",
    "                \"neural.network\",\n",
    "                \"artificial.neural.network\",\n",
    "                \"artificial.intelligence\",\n",
    "                \"reinforcement.learning\",\n",
    "                \"(post.){,1}lasso\",\n",
    "                \"random.forest\",\n",
    "                \"causal.forest\",\n",
    "                \"regression.forest\",\n",
    "                \"boosted.forest\",\n",
    "                \"support.vector.machine\"]\n",
    "search_regex = \"|\".join([f\"({term})\" for term in search_terms])\n",
    "search_regex = f\"({search_regex})\""
   ]
  },
  {
   "cell_type": "code",
   "execution_count": 39,
   "metadata": {},
   "outputs": [
    {
     "name": "stderr",
     "output_type": "stream",
     "text": [
      "/tmp/ipykernel_7676/3026042317.py:1: UserWarning: This pattern is interpreted as a regular expression, and has match groups. To actually get the groups, use str.extract.\n",
      "  merged[\"detected\"] = (merged.title.str.contains(search_regex, case = False) |\n",
      "/tmp/ipykernel_7676/3026042317.py:2: UserWarning: This pattern is interpreted as a regular expression, and has match groups. To actually get the groups, use str.extract.\n",
      "  merged.abstract.str.contains(search_regex, case = False))\n"
     ]
    }
   ],
   "source": [
    "merged[\"detected\"] = (merged.title.str.contains(search_regex, case = False) |\n",
    "                      merged.abstract.str.contains(search_regex, case = False))"
   ]
  },
  {
   "cell_type": "code",
   "execution_count": 59,
   "metadata": {},
   "outputs": [],
   "source": [
    "merged.dropna(subset = \"abstract\").loc[:, [\"title\", \"authors\", \"date\", \"doi\", \"abstract\", \"detected\"]].to_csv(\"output/nber_abstracts.csv\")"
   ]
  },
  {
   "cell_type": "code",
   "execution_count": 47,
   "metadata": {},
   "outputs": [],
   "source": [
    "merged.dropna(subset = \"abstract\").groupby(\"year\").agg({\"detected\": \"sum\", \"id\": \"count\"}).\\\n",
    "    rename({\"id\": \"total\"}, axis = 1).\\\n",
    "        assign(perc = lambda x: round(x.detected / x.total, 4)).\\\n",
    "            to_csv(\"output/nber_stats.csv\")"
   ]
  },
  {
   "cell_type": "code",
   "execution_count": 42,
   "metadata": {},
   "outputs": [
    {
     "data": {
      "text/plain": [
       "<AxesSubplot: xlabel='year'>"
      ]
     },
     "execution_count": 42,
     "metadata": {},
     "output_type": "execute_result"
    },
    {
     "data": {
      "image/png": "[encoded data removed]",
      "text/plain": [
       "<Figure size 640x480 with 1 Axes>"
      ]
     },
     "metadata": {},
     "output_type": "display_data"
    }
   ],
   "source": [
    "merged.dropna(subset = \"abstract\").groupby(\"year\").agg({\"detected\": \"sum\", \"id\": \"count\"}).apply(lambda x: x.detected / x.id, axis = 1).plot()"
   ]
  },
  {
   "cell_type": "code",
   "execution_count": 55,
   "metadata": {},
   "outputs": [],
   "source": [
    "search_terms = [\"regression\",\n",
    "                \"linear.regression\",\n",
    "                \"logistic.regression\",\n",
    "                \"difference.in.difference\",\n",
    "                \"natural.experiment\"]\n",
    "search_regex = \"|\".join([f\"({term})\" for term in search_terms])\n",
    "search_regex = f\"({search_regex})\""
   ]
  },
  {
   "cell_type": "code",
   "execution_count": 56,
   "metadata": {},
   "outputs": [
    {
     "name": "stderr",
     "output_type": "stream",
     "text": [
      "/tmp/ipykernel_7676/3026042317.py:1: UserWarning: This pattern is interpreted as a regular expression, and has match groups. To actually get the groups, use str.extract.\n",
      "  merged[\"detected\"] = (merged.title.str.contains(search_regex, case = False) |\n",
      "/tmp/ipykernel_7676/3026042317.py:2: UserWarning: This pattern is interpreted as a regular expression, and has match groups. To actually get the groups, use str.extract.\n",
      "  merged.abstract.str.contains(search_regex, case = False))\n"
     ]
    }
   ],
   "source": [
    "merged[\"detected\"] = (merged.title.str.contains(search_regex, case = False) |\n",
    "                      merged.abstract.str.contains(search_regex, case = False))"
   ]
  },
  {
   "cell_type": "code",
   "execution_count": 58,
   "metadata": {},
   "outputs": [],
   "source": [
    "merged.dropna(subset = \"abstract\").groupby(\"year\").agg({\"detected\": \"sum\", \"id\": \"count\"}).\\\n",
    "    rename({\"id\": \"total\"}, axis = 1).\\\n",
    "        assign(perc = lambda x: round(x.detected / x.total, 4)).\\\n",
    "            to_csv(\"output/nber_stats_regression.csv\")"
   ]
  },
  {
   "cell_type": "code",
   "execution_count": null,
   "metadata": {},
   "outputs": [],
   "source": [
    "merged[merged.abstract.isna()].to_csv(\"outstanding_links.csv\")"
   ]
  },
  {
   "cell_type": "code",
   "execution_count": null,
   "metadata": {},
   "outputs": [],
   "source": [
    "# convert keys to integers\n",
    "data_paged = {int(k): v for k, v in data_paged.items()}\n",
    "# flatten the dictionary in a dataframe\n",
    "pd.concat([pd.DataFrame.from_dict(data_paged[i]) for i in range(1, 200)]).to_csv(\"nber_papers.csv\")"
   ]
  }
 ],
 "metadata": {
  "kernelspec": {
   "display_name": "main",
   "language": "python",
   "name": "python3"
  },
  "language_info": {
   "codemirror_mode": {
    "name": "ipython",
    "version": 3
   },
   "file_extension": ".py",
   "mimetype": "text/x-python",
   "name": "python",
   "nbconvert_exporter": "python",
   "pygments_lexer": "ipython3",
   "version": "3.11.0"
  },
  "orig_nbformat": 4,
  "vscode": {
   "interpreter": {
    "hash": "060a63141b0ee16cb72d9592ebf2ab939188f70b32016d11513dbc4e31499a17"
   }
  }
 },
 "nbformat": 4,
 "nbformat_minor": 2
}
