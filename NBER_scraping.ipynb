{
 "cells": [
  {
   "attachments": {},
   "cell_type": "markdown",
   "metadata": {},
   "source": [
    "# Machine Learning in Business + Economics\n",
    "\n",
    "In this project we try to get a grasp of how many research papers in the field of Business and Economics are using machine learning."
   ]
  },
  {
   "cell_type": "code",
   "execution_count": 2,
   "metadata": {},
   "outputs": [],
   "source": [
    "import os\n",
    "import time\n",
    "import re\n",
    "import json\n",
    "import requests\n",
    "from tqdm import tqdm\n",
    "from bs4 import BeautifulSoup\n",
    "import pandas as pd"
   ]
  },
  {
   "attachments": {},
   "cell_type": "markdown",
   "metadata": {},
   "source": [
    "## Step 1: Listing NBER WPs"
   ]
  },
  {
   "cell_type": "code",
   "execution_count": 2,
   "metadata": {},
   "outputs": [],
   "source": [
    "from selenium import webdriver\n",
    "from selenium.webdriver.common.by import By\n",
    "from selenium.webdriver.support.ui import WebDriverWait\n",
    "from selenium.webdriver.support import expected_conditions as EC\n",
    "from selenium.common.exceptions import TimeoutException\n",
    "\n",
    "# start the webdriver\n",
    "driver = webdriver.Chrome()\n",
    "\n",
    "# define XPATH queries for data cards\n",
    "data_card_xpath = (By.XPATH, \"//div[@class='digest-card' or @class='digest-card is-new']\")"
   ]
  },
  {
   "cell_type": "code",
   "execution_count": 3,
   "metadata": {},
   "outputs": [],
   "source": [
    "def retrieve_macro_info(element):\n",
    "    \n",
    "    # turn into parsable soup\n",
    "    soup = BeautifulSoup(element.get_attribute('innerHTML'), 'html.parser')\n",
    "    \n",
    "    # initialize output dictionary\n",
    "    out = {}\n",
    "    \n",
    "    # retrieve title and link\n",
    "    tmp = soup.find_all(\"a\", {\"href\": re.compile(\"/papers/\")})\n",
    "    out[\"title\"] = tmp[0].text\n",
    "    out[\"link\"] = tmp[0][\"href\"]\n",
    "    out[\"NBER_ID\"] = tmp[1].text\n",
    "    \n",
    "    # retrieve authors\n",
    "    tmp = soup.find_all('a', {\"href\": re.compile(\"/people/\")})\n",
    "    out[\"authors\"] = [x.text for x in tmp]\n",
    "    out[\"authors_links\"] = [x[\"href\"] for x in tmp]\n",
    "    \n",
    "    # retrieve date\n",
    "    out[\"date\"] = soup.find(\"span\").get_text()\n",
    "\n",
    "    return out"
   ]
  },
  {
   "cell_type": "code",
   "execution_count": 4,
   "metadata": {},
   "outputs": [
    {
     "name": "stderr",
     "output_type": "stream",
     "text": [
      "100%|██████████| 199/199 [12:41<00:00,  3.82s/it]\n"
     ]
    }
   ],
   "source": [
    "# an element to store the data\n",
    "data_paged = {}\n",
    "\n",
    "# loop through the pages\n",
    "for page in tqdm(range(1, 200)):\n",
    "    # wait for decency\n",
    "    time.sleep(1)\n",
    "    # navigate to the page\n",
    "    driver.get(f\"https://www.nber.org/papers?page={page}&perPage=100&sortBy=public_date\")\n",
    "    # wait for dynamic content to be loaded\n",
    "    try:\n",
    "        myElem = WebDriverWait(driver, timeout = 5).until(EC.presence_of_element_located(data_card_xpath))\n",
    "    except TimeoutException:\n",
    "        print(\"Timeout!\")\n",
    "        continue\n",
    "    # get all data cards\n",
    "    data_cards = driver.find_elements(*data_card_xpath)\n",
    "    # loop through the data cards\n",
    "    data_paged[page] = [retrieve_macro_info(x) for x in data_cards]\n",
    "    \n",
    "    # save checkpoint\n",
    "    if page % 10 == 0:\n",
    "        with open(\"nber_data_meta.json\", \"w\") as f:\n",
    "            json.dump(data_paged, f)"
   ]
  },
  {
   "cell_type": "code",
   "execution_count": 17,
   "metadata": {},
   "outputs": [],
   "source": [
    "# load the json\n",
    "with open(\"data_paged.json\", \"r\") as f:\n",
    "    data_paged = json.loads(f.read())\n",
    "# convert keys to integers\n",
    "data_paged = {int(k): v for k, v in data_paged.items()}\n",
    "# flatten the dictionary in a dataframe\n",
    "pd.concat([pd.DataFrame.from_dict(data_paged[i]) for i in range(1, 200)]).to_csv(\"nber_papers.csv\")"
   ]
  },
  {
   "attachments": {},
   "cell_type": "markdown",
   "metadata": {},
   "source": [
    "## Step 2: Getting abstracts"
   ]
  },
  {
   "cell_type": "code",
   "execution_count": 4,
   "metadata": {},
   "outputs": [],
   "source": [
    "# get the links\n",
    "links = pd.read_csv(\"nber_papers.csv\").link"
   ]
  },
  {
   "cell_type": "code",
   "execution_count": 10,
   "metadata": {},
   "outputs": [
    {
     "name": "stderr",
     "output_type": "stream",
     "text": [
      "100%|██████████| 1/1 [00:00<00:00,  1.58it/s]\n"
     ]
    }
   ],
   "source": [
    "# an element to store the data\n",
    "data = {}\n",
    "\n",
    "# iterate over the links\n",
    "for index, link in enumerate(tqdm(links)):\n",
    "    \n",
    "    # wait for decency\n",
    "    time.sleep(.5)\n",
    "    \n",
    "    # get the page and turn into parsable soup\n",
    "    try:\n",
    "        soup = BeautifulSoup(requests.get(\"https://www.nber.org/\" + link).content, 'html.parser')\n",
    "    except:\n",
    "        continue\n",
    "    \n",
    "    # initialize output dictionary\n",
    "    out = {}\n",
    "    \n",
    "    try:\n",
    "    \n",
    "        # retrieve abstract\n",
    "        out[\"abstract\"] = soup.find(\"div\", {\"class\": \"page-header__intro-inner\"}).get_text()\n",
    "        \n",
    "        # retrieve acknowledgements and disclosures\n",
    "        out[\"a_d\"] = soup.find(\"div\", {\"id\": \"accordion-body-guid1\"}).p.get_text()\n",
    "        \n",
    "        # retrieve auxiliary links\n",
    "        out[\"links\"] = [x[\"href\"] for x in soup.find_all(\"a\", {\"class\": \"link link--arrow\"})]\n",
    "        \n",
    "        # retrieve DOI\n",
    "        out[\"doi\"] = re.sub(\"\\nDOI |\\n  \", \"\", soup.find_all(\"div\", {\"class\": \"page-header__citation-item\"})[1].get_text())\n",
    "        \n",
    "        # retrieve associated topics and programs\n",
    "        tmp = soup.find_all(\"div\", {\"class\": \"info-grid__item-body\"})\n",
    "        out[\"topics\"] = tmp[0].find_all(text = True)\n",
    "        out[\"programs\"] = tmp[1].find_all(text = True)\n",
    "        \n",
    "    except:\n",
    "        pass\n",
    "    \n",
    "    # write to list\n",
    "    data[index] = out\n",
    "    \n",
    "    # save checkpoint\n",
    "    if index % 10 == 0:\n",
    "        with open(\"/home/ubuntu/ext_drive/HiWi/mlecon_scraping/ML-in-Business-Economics/nber_data_detailed.json\", \"w\") as f:\n",
    "            json.dump(data, f)"
   ]
  }
 ],
 "metadata": {
  "kernelspec": {
   "display_name": "main",
   "language": "python",
   "name": "python3"
  },
  "language_info": {
   "codemirror_mode": {
    "name": "ipython",
    "version": 3
   },
   "file_extension": ".py",
   "mimetype": "text/x-python",
   "name": "python",
   "nbconvert_exporter": "python",
   "pygments_lexer": "ipython3",
   "version": "3.11.0"
  },
  "orig_nbformat": 4,
  "vscode": {
   "interpreter": {
    "hash": "060a63141b0ee16cb72d9592ebf2ab939188f70b32016d11513dbc4e31499a17"
   }
  }
 },
 "nbformat": 4,
 "nbformat_minor": 2
}
