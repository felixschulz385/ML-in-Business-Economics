{
 "cells": [
  {
   "cell_type": "code",
   "execution_count": 1,
   "metadata": {},
   "outputs": [],
   "source": [
    "import requests"
   ]
  },
  {
   "cell_type": "code",
   "execution_count": 14,
   "metadata": {},
   "outputs": [
    {
     "data": {
      "text/plain": [
       "{'status': 'ok',\n",
       " 'message-type': 'work-list',\n",
       " 'message-version': '1.0.0',\n",
       " 'message': {'facets': {},\n",
       "  'total-results': 407917,\n",
       "  'items': [{'DOI': '10.4018/joeuc.1990040103',\n",
       "    'prefix': '10.4018',\n",
       "    'title': ['A Survey of the AACSB Universities’ Policies on Software Copying']},\n",
       "   {'DOI': '10.1111/1468-0262.00223',\n",
       "    'prefix': '10.3982',\n",
       "    'title': ['Single Crossing Properties and the Existence of Pure Strategy Equilibria in Games of Incomplete Information']},\n",
       "   {'DOI': '10.1145/1562814.1562816',\n",
       "    'prefix': '10.1145',\n",
       "    'title': ['Designing markets']},\n",
       "   {'DOI': '10.1017/ccol0521871530.001',\n",
       "    'prefix': '10.1017',\n",
       "    'title': ['Empirical Models of Auctions']},\n",
       "   {'DOI': '10.1353/imag.2003.0115',\n",
       "    'prefix': '10.1353',\n",
       "    'title': ['Economics: Applying Math to Real-World Problems']},\n",
       "   {'DOI': '10.1007/bf00882026',\n",
       "    'prefix': '10.1007',\n",
       "    'title': [\"A comparison of experts' and high tech students' ethical beliefs in computer-related situations\"]},\n",
       "   {'DOI': '10.7208/chicago/9780226613475.003.0021',\n",
       "    'prefix': '10.7208',\n",
       "    'title': ['The Impact of Machine Learning on Economics']},\n",
       "   {'DOI': '10.1126/science.aal4321',\n",
       "    'prefix': '10.1126',\n",
       "    'title': ['Beyond prediction: Using big data for policy problems'],\n",
       "    'abstract': '<jats:p>Machine-learning prediction methods have been extremely productive in applications ranging from medicine to allocating fire and health inspectors in cities. However, there are a number of gaps between making a prediction and making a decision, and underlying assumptions need to be understood in order to optimize data-driven decision-making.</jats:p>'},\n",
       "   {'DOI': '10.3727/109830512x13283928066832',\n",
       "    'prefix': '10.3727',\n",
       "    'title': ['Use of the World Wide Web by the Portuguese Accommodation Industry']},\n",
       "   {'DOI': '10.2139/ssrn.139701',\n",
       "    'prefix': '10.2139',\n",
       "    'title': ['Single Crossing Properties And The Existence Of Pure Strategy Equilibria In Games Of Incomplete Information']},\n",
       "   {'DOI': '10.1145/2783258.2785466',\n",
       "    'prefix': '10.1145',\n",
       "    'title': ['Machine Learning and Causal Inference for Policy Evaluation']},\n",
       "   {'DOI': '10.1257/aer.98.2.559',\n",
       "    'prefix': '10.1257',\n",
       "    'title': ['John Bates Clark Medalist']},\n",
       "   {'DOI': '10.1073/pnas.1510489113',\n",
       "    'prefix': '10.1073',\n",
       "    'title': ['Recursive partitioning for heterogeneous causal effects'],\n",
       "    'abstract': '<jats:p>In this paper we propose methods for estimating heterogeneity in causal effects in experimental and observational studies and for conducting hypothesis tests about the magnitude of differences in treatment effects across subsets of the population. We provide a data-driven approach to partition the data into subpopulations that differ in the magnitude of their treatment effects. The approach enables the construction of valid confidence intervals for treatment effects, even with many covariates relative to the sample size, and without “sparsity” assumptions. We propose an “honest” approach to estimation, whereby one sample is used to construct the partition and another to estimate treatment effects for each subpopulation. Our approach builds on regression tree methods, modified to optimize for goodness of fit in treatment effects and to account for honest estimation. Our model selection criterion anticipates that bias will be eliminated by honest estimation and also accounts for the effect of making additional splits on the variance of treatment effect estimates within each subpopulation. We address the challenge that the “ground truth” for a causal effect is not observed for any individual unit, so that standard approaches to cross-validation must be modified. Through a simulation study, we show that for our preferred method honest estimation results in nominal coverage for 90% confidence intervals, whereas coverage ranges between 74% and 84% for nonhonest approaches. Honest estimation requires estimating the model with a smaller sample size; the cost in terms of mean squared error of treatment effects for our preferred method ranges between 7–22%.</jats:p>'},\n",
       "   {'DOI': '10.3386/w25064',\n",
       "    'prefix': '10.3386',\n",
       "    'title': ['Economists (and Economics) in Tech Companies']},\n",
       "   {'DOI': '10.7208/chicago/9780226206981.003.0015',\n",
       "    'prefix': '10.7208',\n",
       "    'title': ['Chapter 15 - The Nature and Incidence of Software Piracy']},\n",
       "   {'DOI': '10.2139/ssrn.195734',\n",
       "    'prefix': '10.2139',\n",
       "    'title': ['Optimal Collusion with Private Information']},\n",
       "   {'DOI': '10.1086/319558',\n",
       "    'prefix': '10.1086',\n",
       "    'title': ['Information and Competition in U.S. Forest Service Timber Auctions']},\n",
       "   {'DOI': '10.3386/w24963',\n",
       "    'prefix': '10.3386',\n",
       "    'title': ['Design-based Analysis in Difference-In-Differences Settings with  Staggered Adoption']},\n",
       "   {'DOI': '10.1038/s42256-022-00445-z',\n",
       "    'prefix': '10.1038',\n",
       "    'title': ['Stable learning establishes some common ground between causal inference and machine learning']},\n",
       "   {'DOI': '10.2307/3087465',\n",
       "    'prefix': '10.1111',\n",
       "    'title': ['The Impact of Information Technology on Emergency Health Care Outcomes']}],\n",
       "  'items-per-page': 20,\n",
       "  'query': {'start-index': 0, 'search-terms': None}}}"
      ]
     },
     "execution_count": 14,
     "metadata": {},
     "output_type": "execute_result"
    }
   ],
   "source": [
    "response = requests.get(\"http://api.crossref.org/works?query.author=susan+athey&select=DOI,prefix,title,abstract\")\n",
    "json = response.json()\n",
    "json"
   ]
  },
  {
   "cell_type": "code",
   "execution_count": 15,
   "metadata": {},
   "outputs": [
    {
     "data": {
      "text/plain": [
       "{'status': 'ok',\n",
       " 'message-type': 'work',\n",
       " 'message-version': '1.0.0',\n",
       " 'message': {'indexed': {'date-parts': [[2022, 12, 14]],\n",
       "   'date-time': '2022-12-14T07:17:07Z',\n",
       "   'timestamp': 1671002227656},\n",
       "  'reference-count': 0,\n",
       "  'publisher': 'Wiley',\n",
       "  'issue': '3',\n",
       "  'license': [{'start': {'date-parts': [[2015, 9, 1]],\n",
       "     'date-time': '2015-09-01T00:00:00Z',\n",
       "     'timestamp': 1441065600000},\n",
       "    'content-version': 'tdm',\n",
       "    'delay-in-days': 4991,\n",
       "    'URL': 'http://doi.wiley.com/10.1002/tdm_license_1'}],\n",
       "  'content-domain': {'domain': [], 'crossmark-restriction': False},\n",
       "  'short-container-title': ['The RAND Journal of Economics'],\n",
       "  'published-print': {'date-parts': [[2002]]},\n",
       "  'DOI': '10.2307/3087465',\n",
       "  'type': 'journal-article',\n",
       "  'created': {'date-parts': [[2006, 4, 19]],\n",
       "   'date-time': '2006-04-19T18:55:12Z',\n",
       "   'timestamp': 1145472912000},\n",
       "  'page': '399',\n",
       "  'source': 'Crossref',\n",
       "  'is-referenced-by-count': 112,\n",
       "  'title': ['The Impact of Information Technology on Emergency Health Care Outcomes'],\n",
       "  'prefix': '10.1111',\n",
       "  'volume': '33',\n",
       "  'author': [{'given': 'Susan',\n",
       "    'family': 'Athey',\n",
       "    'sequence': 'first',\n",
       "    'affiliation': []},\n",
       "   {'given': 'Scott',\n",
       "    'family': 'Stern',\n",
       "    'sequence': 'additional',\n",
       "    'affiliation': []}],\n",
       "  'member': '311',\n",
       "  'container-title': ['The RAND Journal of Economics'],\n",
       "  'original-title': [],\n",
       "  'link': [{'URL': 'http://api.wiley.com/onlinelibrary/tdm/v1/articles/10.2307%2F3087465',\n",
       "    'content-type': 'unspecified',\n",
       "    'content-version': 'vor',\n",
       "    'intended-application': 'text-mining'},\n",
       "   {'URL': 'http://onlinelibrary.wiley.com/wol1/doi/10.2307/3087465/fullpdf',\n",
       "    'content-type': 'unspecified',\n",
       "    'content-version': 'vor',\n",
       "    'intended-application': 'similarity-checking'}],\n",
       "  'deposited': {'date-parts': [[2021, 2, 5]],\n",
       "   'date-time': '2021-02-05T06:05:14Z',\n",
       "   'timestamp': 1612505114000},\n",
       "  'score': 1,\n",
       "  'resource': {'primary': {'URL': 'http://doi.wiley.com/10.2307/3087465'}},\n",
       "  'subtitle': [],\n",
       "  'short-title': [],\n",
       "  'issued': {'date-parts': [[2002]]},\n",
       "  'references-count': 0,\n",
       "  'journal-issue': {'issue': '3', 'published-print': {'date-parts': [[2002]]}},\n",
       "  'URL': 'http://dx.doi.org/10.2307/3087465',\n",
       "  'relation': {},\n",
       "  'ISSN': ['0741-6261'],\n",
       "  'issn-type': [{'value': '0741-6261', 'type': 'print'}],\n",
       "  'subject': ['Economics and Econometrics'],\n",
       "  'published': {'date-parts': [[2002]]}}}"
      ]
     },
     "execution_count": 15,
     "metadata": {},
     "output_type": "execute_result"
    }
   ],
   "source": [
    "response = requests.get(\"http://api.crossref.org/works/10.2307/3087465\")\n",
    "json = response.json()\n",
    "json"
   ]
  },
  {
   "cell_type": "code",
   "execution_count": 9,
   "metadata": {},
   "outputs": [
    {
     "data": {
      "text/plain": [
       "20"
      ]
     },
     "execution_count": 9,
     "metadata": {},
     "output_type": "execute_result"
    }
   ],
   "source": [
    "len(json[\"message\"][\"items\"])"
   ]
  },
  {
   "cell_type": "code",
   "execution_count": 13,
   "metadata": {},
   "outputs": [
    {
     "data": {
      "text/plain": [
       "{'status': 'ok',\n",
       " 'message-type': 'work-list',\n",
       " 'message-version': '1.0.0',\n",
       " 'message': {'facets': {},\n",
       "  'total-results': 407917,\n",
       "  'items': [{'DOI': '10.4018/joeuc.1990040103',\n",
       "    'prefix': '10.4018',\n",
       "    'title': ['A Survey of the AACSB Universities’ Policies on Software Copying']},\n",
       "   {'DOI': '10.1111/1468-0262.00223',\n",
       "    'prefix': '10.3982',\n",
       "    'title': ['Single Crossing Properties and the Existence of Pure Strategy Equilibria in Games of Incomplete Information']},\n",
       "   {'DOI': '10.1145/1562814.1562816',\n",
       "    'prefix': '10.1145',\n",
       "    'title': ['Designing markets']},\n",
       "   {'DOI': '10.1353/imag.2003.0115',\n",
       "    'prefix': '10.1353',\n",
       "    'title': ['Economics: Applying Math to Real-World Problems']},\n",
       "   {'DOI': '10.1007/bf00882026',\n",
       "    'prefix': '10.1007',\n",
       "    'title': [\"A comparison of experts' and high tech students' ethical beliefs in computer-related situations\"]},\n",
       "   {'DOI': '10.7208/chicago/9780226613475.003.0021',\n",
       "    'prefix': '10.7208',\n",
       "    'title': ['The Impact of Machine Learning on Economics']},\n",
       "   {'DOI': '10.1126/science.aal4321',\n",
       "    'prefix': '10.1126',\n",
       "    'title': ['Beyond prediction: Using big data for policy problems'],\n",
       "    'abstract': '<jats:p>Machine-learning prediction methods have been extremely productive in applications ranging from medicine to allocating fire and health inspectors in cities. However, there are a number of gaps between making a prediction and making a decision, and underlying assumptions need to be understood in order to optimize data-driven decision-making.</jats:p>'},\n",
       "   {'DOI': '10.1017/ccol0521871530.001',\n",
       "    'prefix': '10.1017',\n",
       "    'title': ['Empirical Models of Auctions']},\n",
       "   {'DOI': '10.3727/109830512x13283928066832',\n",
       "    'prefix': '10.3727',\n",
       "    'title': ['Use of the World Wide Web by the Portuguese Accommodation Industry']},\n",
       "   {'DOI': '10.2139/ssrn.139701',\n",
       "    'prefix': '10.2139',\n",
       "    'title': ['Single Crossing Properties And The Existence Of Pure Strategy Equilibria In Games Of Incomplete Information']},\n",
       "   {'DOI': '10.1145/2783258.2785466',\n",
       "    'prefix': '10.1145',\n",
       "    'title': ['Machine Learning and Causal Inference for Policy Evaluation']},\n",
       "   {'DOI': '10.1257/aer.98.2.559',\n",
       "    'prefix': '10.1257',\n",
       "    'title': ['John Bates Clark Medalist']},\n",
       "   {'DOI': '10.7208/chicago/9780226206981.003.0015',\n",
       "    'prefix': '10.7208',\n",
       "    'title': ['Chapter 15 - The Nature and Incidence of Software Piracy']},\n",
       "   {'DOI': '10.3386/w25064',\n",
       "    'prefix': '10.3386',\n",
       "    'title': ['Economists (and Economics) in Tech Companies']},\n",
       "   {'DOI': '10.2139/ssrn.195734',\n",
       "    'prefix': '10.2139',\n",
       "    'title': ['Optimal Collusion with Private Information']},\n",
       "   {'DOI': '10.3386/w24963',\n",
       "    'prefix': '10.3386',\n",
       "    'title': ['Design-based Analysis in Difference-In-Differences Settings with  Staggered Adoption']},\n",
       "   {'DOI': '10.1086/319558',\n",
       "    'prefix': '10.1086',\n",
       "    'title': ['Information and Competition in U.S. Forest Service Timber Auctions']},\n",
       "   {'DOI': '10.1073/pnas.1510489113',\n",
       "    'prefix': '10.1073',\n",
       "    'title': ['Recursive partitioning for heterogeneous causal effects'],\n",
       "    'abstract': '<jats:p>In this paper we propose methods for estimating heterogeneity in causal effects in experimental and observational studies and for conducting hypothesis tests about the magnitude of differences in treatment effects across subsets of the population. We provide a data-driven approach to partition the data into subpopulations that differ in the magnitude of their treatment effects. The approach enables the construction of valid confidence intervals for treatment effects, even with many covariates relative to the sample size, and without “sparsity” assumptions. We propose an “honest” approach to estimation, whereby one sample is used to construct the partition and another to estimate treatment effects for each subpopulation. Our approach builds on regression tree methods, modified to optimize for goodness of fit in treatment effects and to account for honest estimation. Our model selection criterion anticipates that bias will be eliminated by honest estimation and also accounts for the effect of making additional splits on the variance of treatment effect estimates within each subpopulation. We address the challenge that the “ground truth” for a causal effect is not observed for any individual unit, so that standard approaches to cross-validation must be modified. Through a simulation study, we show that for our preferred method honest estimation results in nominal coverage for 90% confidence intervals, whereas coverage ranges between 74% and 84% for nonhonest approaches. Honest estimation requires estimating the model with a smaller sample size; the cost in terms of mean squared error of treatment effects for our preferred method ranges between 7–22%.</jats:p>'},\n",
       "   {'DOI': '10.1038/s42256-022-00445-z',\n",
       "    'prefix': '10.1038',\n",
       "    'title': ['Stable learning establishes some common ground between causal inference and machine learning']},\n",
       "   {'DOI': '10.2307/3087465',\n",
       "    'prefix': '10.1111',\n",
       "    'title': ['The Impact of Information Technology on Emergency Health Care Outcomes']}],\n",
       "  'items-per-page': 20,\n",
       "  'query': {'start-index': 0, 'search-terms': None}}}"
      ]
     },
     "execution_count": 13,
     "metadata": {},
     "output_type": "execute_result"
    }
   ],
   "source": []
  }
 ],
 "metadata": {
  "kernelspec": {
   "display_name": "main",
   "language": "python",
   "name": "python3"
  },
  "language_info": {
   "codemirror_mode": {
    "name": "ipython",
    "version": 3
   },
   "file_extension": ".py",
   "mimetype": "text/x-python",
   "name": "python",
   "nbconvert_exporter": "python",
   "pygments_lexer": "ipython3",
   "version": "3.11.0"
  },
  "orig_nbformat": 4,
  "vscode": {
   "interpreter": {
    "hash": "060a63141b0ee16cb72d9592ebf2ab939188f70b32016d11513dbc4e31499a17"
   }
  }
 },
 "nbformat": 4,
 "nbformat_minor": 2
}
